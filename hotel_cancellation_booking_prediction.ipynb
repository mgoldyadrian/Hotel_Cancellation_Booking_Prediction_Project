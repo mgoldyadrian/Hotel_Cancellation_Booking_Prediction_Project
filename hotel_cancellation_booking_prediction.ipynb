{
 "cells": [
  {
   "cell_type": "code",
   "execution_count": 1,
   "metadata": {
    "ExecuteTime": {
     "end_time": "2020-09-09T01:28:48.177854Z",
     "start_time": "2020-09-09T01:28:42.158458Z"
    }
   },
   "outputs": [],
   "source": [
    "import pandas as pd\n",
    "import numpy as np\n",
    "import matplotlib.pyplot as plt\n",
    "import seaborn as sns\n",
    "from sklearn.tree import DecisionTreeClassifier\n",
    "from sklearn.linear_model import LogisticRegression\n",
    "from sklearn.model_selection import train_test_split, KFold\n",
    "from sklearn.preprocessing import StandardScaler\n",
    "from sklearn.metrics import classification_report, accuracy_score\n",
    "from sklearn.tree import export_graphviz\n",
    "import warnings\n",
    "warnings.filterwarnings('ignore')"
   ]
  },
  {
   "cell_type": "code",
   "execution_count": 2,
   "metadata": {
    "ExecuteTime": {
     "end_time": "2020-09-09T01:28:48.946708Z",
     "start_time": "2020-09-09T01:28:48.182088Z"
    }
   },
   "outputs": [],
   "source": [
    "data = pd.read_csv('hotel_bookings.csv')"
   ]
  },
  {
   "cell_type": "code",
   "execution_count": 3,
   "metadata": {
    "ExecuteTime": {
     "end_time": "2020-09-09T01:28:49.014187Z",
     "start_time": "2020-09-09T01:28:48.950707Z"
    }
   },
   "outputs": [
    {
     "data": {
      "text/html": [
       "<div>\n",
       "<style scoped>\n",
       "    .dataframe tbody tr th:only-of-type {\n",
       "        vertical-align: middle;\n",
       "    }\n",
       "\n",
       "    .dataframe tbody tr th {\n",
       "        vertical-align: top;\n",
       "    }\n",
       "\n",
       "    .dataframe thead th {\n",
       "        text-align: right;\n",
       "    }\n",
       "</style>\n",
       "<table border=\"1\" class=\"dataframe\">\n",
       "  <thead>\n",
       "    <tr style=\"text-align: right;\">\n",
       "      <th></th>\n",
       "      <th>hotel</th>\n",
       "      <th>is_canceled</th>\n",
       "      <th>lead_time</th>\n",
       "      <th>arrival_date_year</th>\n",
       "      <th>arrival_date_month</th>\n",
       "      <th>arrival_date_week_number</th>\n",
       "      <th>arrival_date_day_of_month</th>\n",
       "      <th>stays_in_weekend_nights</th>\n",
       "      <th>stays_in_week_nights</th>\n",
       "      <th>adults</th>\n",
       "      <th>...</th>\n",
       "      <th>deposit_type</th>\n",
       "      <th>agent</th>\n",
       "      <th>company</th>\n",
       "      <th>days_in_waiting_list</th>\n",
       "      <th>customer_type</th>\n",
       "      <th>adr</th>\n",
       "      <th>required_car_parking_spaces</th>\n",
       "      <th>total_of_special_requests</th>\n",
       "      <th>reservation_status</th>\n",
       "      <th>reservation_status_date</th>\n",
       "    </tr>\n",
       "  </thead>\n",
       "  <tbody>\n",
       "    <tr>\n",
       "      <td>0</td>\n",
       "      <td>Resort Hotel</td>\n",
       "      <td>0</td>\n",
       "      <td>342</td>\n",
       "      <td>2015</td>\n",
       "      <td>July</td>\n",
       "      <td>27</td>\n",
       "      <td>1</td>\n",
       "      <td>0</td>\n",
       "      <td>0</td>\n",
       "      <td>2</td>\n",
       "      <td>...</td>\n",
       "      <td>No Deposit</td>\n",
       "      <td>NaN</td>\n",
       "      <td>NaN</td>\n",
       "      <td>0</td>\n",
       "      <td>Transient</td>\n",
       "      <td>0.0</td>\n",
       "      <td>0</td>\n",
       "      <td>0</td>\n",
       "      <td>Check-Out</td>\n",
       "      <td>2015-07-01</td>\n",
       "    </tr>\n",
       "    <tr>\n",
       "      <td>1</td>\n",
       "      <td>Resort Hotel</td>\n",
       "      <td>0</td>\n",
       "      <td>737</td>\n",
       "      <td>2015</td>\n",
       "      <td>July</td>\n",
       "      <td>27</td>\n",
       "      <td>1</td>\n",
       "      <td>0</td>\n",
       "      <td>0</td>\n",
       "      <td>2</td>\n",
       "      <td>...</td>\n",
       "      <td>No Deposit</td>\n",
       "      <td>NaN</td>\n",
       "      <td>NaN</td>\n",
       "      <td>0</td>\n",
       "      <td>Transient</td>\n",
       "      <td>0.0</td>\n",
       "      <td>0</td>\n",
       "      <td>0</td>\n",
       "      <td>Check-Out</td>\n",
       "      <td>2015-07-01</td>\n",
       "    </tr>\n",
       "    <tr>\n",
       "      <td>2</td>\n",
       "      <td>Resort Hotel</td>\n",
       "      <td>0</td>\n",
       "      <td>7</td>\n",
       "      <td>2015</td>\n",
       "      <td>July</td>\n",
       "      <td>27</td>\n",
       "      <td>1</td>\n",
       "      <td>0</td>\n",
       "      <td>1</td>\n",
       "      <td>1</td>\n",
       "      <td>...</td>\n",
       "      <td>No Deposit</td>\n",
       "      <td>NaN</td>\n",
       "      <td>NaN</td>\n",
       "      <td>0</td>\n",
       "      <td>Transient</td>\n",
       "      <td>75.0</td>\n",
       "      <td>0</td>\n",
       "      <td>0</td>\n",
       "      <td>Check-Out</td>\n",
       "      <td>2015-07-02</td>\n",
       "    </tr>\n",
       "    <tr>\n",
       "      <td>3</td>\n",
       "      <td>Resort Hotel</td>\n",
       "      <td>0</td>\n",
       "      <td>13</td>\n",
       "      <td>2015</td>\n",
       "      <td>July</td>\n",
       "      <td>27</td>\n",
       "      <td>1</td>\n",
       "      <td>0</td>\n",
       "      <td>1</td>\n",
       "      <td>1</td>\n",
       "      <td>...</td>\n",
       "      <td>No Deposit</td>\n",
       "      <td>304.0</td>\n",
       "      <td>NaN</td>\n",
       "      <td>0</td>\n",
       "      <td>Transient</td>\n",
       "      <td>75.0</td>\n",
       "      <td>0</td>\n",
       "      <td>0</td>\n",
       "      <td>Check-Out</td>\n",
       "      <td>2015-07-02</td>\n",
       "    </tr>\n",
       "    <tr>\n",
       "      <td>4</td>\n",
       "      <td>Resort Hotel</td>\n",
       "      <td>0</td>\n",
       "      <td>14</td>\n",
       "      <td>2015</td>\n",
       "      <td>July</td>\n",
       "      <td>27</td>\n",
       "      <td>1</td>\n",
       "      <td>0</td>\n",
       "      <td>2</td>\n",
       "      <td>2</td>\n",
       "      <td>...</td>\n",
       "      <td>No Deposit</td>\n",
       "      <td>240.0</td>\n",
       "      <td>NaN</td>\n",
       "      <td>0</td>\n",
       "      <td>Transient</td>\n",
       "      <td>98.0</td>\n",
       "      <td>0</td>\n",
       "      <td>1</td>\n",
       "      <td>Check-Out</td>\n",
       "      <td>2015-07-03</td>\n",
       "    </tr>\n",
       "    <tr>\n",
       "      <td>5</td>\n",
       "      <td>Resort Hotel</td>\n",
       "      <td>0</td>\n",
       "      <td>14</td>\n",
       "      <td>2015</td>\n",
       "      <td>July</td>\n",
       "      <td>27</td>\n",
       "      <td>1</td>\n",
       "      <td>0</td>\n",
       "      <td>2</td>\n",
       "      <td>2</td>\n",
       "      <td>...</td>\n",
       "      <td>No Deposit</td>\n",
       "      <td>240.0</td>\n",
       "      <td>NaN</td>\n",
       "      <td>0</td>\n",
       "      <td>Transient</td>\n",
       "      <td>98.0</td>\n",
       "      <td>0</td>\n",
       "      <td>1</td>\n",
       "      <td>Check-Out</td>\n",
       "      <td>2015-07-03</td>\n",
       "    </tr>\n",
       "    <tr>\n",
       "      <td>6</td>\n",
       "      <td>Resort Hotel</td>\n",
       "      <td>0</td>\n",
       "      <td>0</td>\n",
       "      <td>2015</td>\n",
       "      <td>July</td>\n",
       "      <td>27</td>\n",
       "      <td>1</td>\n",
       "      <td>0</td>\n",
       "      <td>2</td>\n",
       "      <td>2</td>\n",
       "      <td>...</td>\n",
       "      <td>No Deposit</td>\n",
       "      <td>NaN</td>\n",
       "      <td>NaN</td>\n",
       "      <td>0</td>\n",
       "      <td>Transient</td>\n",
       "      <td>107.0</td>\n",
       "      <td>0</td>\n",
       "      <td>0</td>\n",
       "      <td>Check-Out</td>\n",
       "      <td>2015-07-03</td>\n",
       "    </tr>\n",
       "    <tr>\n",
       "      <td>7</td>\n",
       "      <td>Resort Hotel</td>\n",
       "      <td>0</td>\n",
       "      <td>9</td>\n",
       "      <td>2015</td>\n",
       "      <td>July</td>\n",
       "      <td>27</td>\n",
       "      <td>1</td>\n",
       "      <td>0</td>\n",
       "      <td>2</td>\n",
       "      <td>2</td>\n",
       "      <td>...</td>\n",
       "      <td>No Deposit</td>\n",
       "      <td>303.0</td>\n",
       "      <td>NaN</td>\n",
       "      <td>0</td>\n",
       "      <td>Transient</td>\n",
       "      <td>103.0</td>\n",
       "      <td>0</td>\n",
       "      <td>1</td>\n",
       "      <td>Check-Out</td>\n",
       "      <td>2015-07-03</td>\n",
       "    </tr>\n",
       "    <tr>\n",
       "      <td>8</td>\n",
       "      <td>Resort Hotel</td>\n",
       "      <td>1</td>\n",
       "      <td>85</td>\n",
       "      <td>2015</td>\n",
       "      <td>July</td>\n",
       "      <td>27</td>\n",
       "      <td>1</td>\n",
       "      <td>0</td>\n",
       "      <td>3</td>\n",
       "      <td>2</td>\n",
       "      <td>...</td>\n",
       "      <td>No Deposit</td>\n",
       "      <td>240.0</td>\n",
       "      <td>NaN</td>\n",
       "      <td>0</td>\n",
       "      <td>Transient</td>\n",
       "      <td>82.0</td>\n",
       "      <td>0</td>\n",
       "      <td>1</td>\n",
       "      <td>Canceled</td>\n",
       "      <td>2015-05-06</td>\n",
       "    </tr>\n",
       "    <tr>\n",
       "      <td>9</td>\n",
       "      <td>Resort Hotel</td>\n",
       "      <td>1</td>\n",
       "      <td>75</td>\n",
       "      <td>2015</td>\n",
       "      <td>July</td>\n",
       "      <td>27</td>\n",
       "      <td>1</td>\n",
       "      <td>0</td>\n",
       "      <td>3</td>\n",
       "      <td>2</td>\n",
       "      <td>...</td>\n",
       "      <td>No Deposit</td>\n",
       "      <td>15.0</td>\n",
       "      <td>NaN</td>\n",
       "      <td>0</td>\n",
       "      <td>Transient</td>\n",
       "      <td>105.5</td>\n",
       "      <td>0</td>\n",
       "      <td>0</td>\n",
       "      <td>Canceled</td>\n",
       "      <td>2015-04-22</td>\n",
       "    </tr>\n",
       "  </tbody>\n",
       "</table>\n",
       "<p>10 rows × 32 columns</p>\n",
       "</div>"
      ],
      "text/plain": [
       "          hotel  is_canceled  lead_time  arrival_date_year arrival_date_month  \\\n",
       "0  Resort Hotel            0        342               2015               July   \n",
       "1  Resort Hotel            0        737               2015               July   \n",
       "2  Resort Hotel            0          7               2015               July   \n",
       "3  Resort Hotel            0         13               2015               July   \n",
       "4  Resort Hotel            0         14               2015               July   \n",
       "5  Resort Hotel            0         14               2015               July   \n",
       "6  Resort Hotel            0          0               2015               July   \n",
       "7  Resort Hotel            0          9               2015               July   \n",
       "8  Resort Hotel            1         85               2015               July   \n",
       "9  Resort Hotel            1         75               2015               July   \n",
       "\n",
       "   arrival_date_week_number  arrival_date_day_of_month  \\\n",
       "0                        27                          1   \n",
       "1                        27                          1   \n",
       "2                        27                          1   \n",
       "3                        27                          1   \n",
       "4                        27                          1   \n",
       "5                        27                          1   \n",
       "6                        27                          1   \n",
       "7                        27                          1   \n",
       "8                        27                          1   \n",
       "9                        27                          1   \n",
       "\n",
       "   stays_in_weekend_nights  stays_in_week_nights  adults  ...  deposit_type  \\\n",
       "0                        0                     0       2  ...    No Deposit   \n",
       "1                        0                     0       2  ...    No Deposit   \n",
       "2                        0                     1       1  ...    No Deposit   \n",
       "3                        0                     1       1  ...    No Deposit   \n",
       "4                        0                     2       2  ...    No Deposit   \n",
       "5                        0                     2       2  ...    No Deposit   \n",
       "6                        0                     2       2  ...    No Deposit   \n",
       "7                        0                     2       2  ...    No Deposit   \n",
       "8                        0                     3       2  ...    No Deposit   \n",
       "9                        0                     3       2  ...    No Deposit   \n",
       "\n",
       "   agent company days_in_waiting_list customer_type    adr  \\\n",
       "0    NaN     NaN                    0     Transient    0.0   \n",
       "1    NaN     NaN                    0     Transient    0.0   \n",
       "2    NaN     NaN                    0     Transient   75.0   \n",
       "3  304.0     NaN                    0     Transient   75.0   \n",
       "4  240.0     NaN                    0     Transient   98.0   \n",
       "5  240.0     NaN                    0     Transient   98.0   \n",
       "6    NaN     NaN                    0     Transient  107.0   \n",
       "7  303.0     NaN                    0     Transient  103.0   \n",
       "8  240.0     NaN                    0     Transient   82.0   \n",
       "9   15.0     NaN                    0     Transient  105.5   \n",
       "\n",
       "   required_car_parking_spaces  total_of_special_requests  reservation_status  \\\n",
       "0                            0                          0           Check-Out   \n",
       "1                            0                          0           Check-Out   \n",
       "2                            0                          0           Check-Out   \n",
       "3                            0                          0           Check-Out   \n",
       "4                            0                          1           Check-Out   \n",
       "5                            0                          1           Check-Out   \n",
       "6                            0                          0           Check-Out   \n",
       "7                            0                          1           Check-Out   \n",
       "8                            0                          1            Canceled   \n",
       "9                            0                          0            Canceled   \n",
       "\n",
       "  reservation_status_date  \n",
       "0              2015-07-01  \n",
       "1              2015-07-01  \n",
       "2              2015-07-02  \n",
       "3              2015-07-02  \n",
       "4              2015-07-03  \n",
       "5              2015-07-03  \n",
       "6              2015-07-03  \n",
       "7              2015-07-03  \n",
       "8              2015-05-06  \n",
       "9              2015-04-22  \n",
       "\n",
       "[10 rows x 32 columns]"
      ]
     },
     "execution_count": 3,
     "metadata": {},
     "output_type": "execute_result"
    }
   ],
   "source": [
    "data.head(10)"
   ]
  },
  {
   "cell_type": "markdown",
   "metadata": {},
   "source": [
    "### 1. DATA CLEANING "
   ]
  },
  {
   "cell_type": "markdown",
   "metadata": {},
   "source": [
    "#### A) Handling outlier"
   ]
  },
  {
   "cell_type": "code",
   "execution_count": 4,
   "metadata": {
    "ExecuteTime": {
     "end_time": "2020-09-09T01:28:49.459881Z",
     "start_time": "2020-09-09T01:28:49.017658Z"
    }
   },
   "outputs": [
    {
     "name": "stdout",
     "output_type": "stream",
     "text": [
      "Lower point: -195.0 \t upper point: 373.0 \t lead_time\n",
      "Lower point: -3.0 \t upper point: 5.0 \t stays_in_weekend_nights\n",
      "Lower point: -2.0 \t upper point: 6.0 \t stays_in_week_nights\n",
      "Lower point: 2.0 \t upper point: 2.0 \t adults\n",
      "Lower point: 0.0 \t upper point: 0.0 \t children\n",
      "Lower point: 0.0 \t upper point: 0.0 \t babies\n",
      "Lower point: -15.77 \t upper point: 211.06 \t adr\n"
     ]
    }
   ],
   "source": [
    "# Handling outlier menggunakan IQR\n",
    "\n",
    "data_clean = data.copy()\n",
    "columns = [\n",
    "    'lead_time',\n",
    "    'stays_in_weekend_nights',\n",
    "    'stays_in_week_nights',\n",
    "    'adults',\n",
    "    'children',\n",
    "    'babies',\n",
    "    'adr',\n",
    "]\n",
    "\n",
    "for i in columns:\n",
    "    q1 = data[i].quantile(0.25)\n",
    "    q3 = data[i].quantile(0.75)\n",
    "\n",
    "    iqr = q3 - q1\n",
    "    lower = q1 - 1.5 * iqr\n",
    "    upper = q3 + 1.5 * iqr\n",
    "\n",
    "    print(f'Lower point: {round(lower, 2)} \\t upper point: {round(upper, 2)} \\t {i}')\n",
    "    \n",
    "    if lower == upper:\n",
    "        continue\n",
    "    \n",
    "    cond1 = (data_clean[i] >= lower) & (data_clean[i] <= upper)\n",
    "    cond2 = data_clean[i].isnull()\n",
    "    data_clean = data_clean[cond1 | cond2]"
   ]
  },
  {
   "cell_type": "markdown",
   "metadata": {},
   "source": [
    "#### B) Handling missing value"
   ]
  },
  {
   "cell_type": "code",
   "execution_count": 5,
   "metadata": {
    "ExecuteTime": {
     "end_time": "2020-09-09T01:28:49.598952Z",
     "start_time": "2020-09-09T01:28:49.464827Z"
    }
   },
   "outputs": [
    {
     "data": {
      "text/plain": [
       "hotel                                  0\n",
       "is_canceled                            0\n",
       "lead_time                              0\n",
       "arrival_date_year                      0\n",
       "arrival_date_month                     0\n",
       "arrival_date_week_number               0\n",
       "arrival_date_day_of_month              0\n",
       "stays_in_weekend_nights                0\n",
       "stays_in_week_nights                   0\n",
       "adults                                 0\n",
       "children                               4\n",
       "babies                                 0\n",
       "meal                                   0\n",
       "country                              467\n",
       "market_segment                         0\n",
       "distribution_channel                   0\n",
       "is_repeated_guest                      0\n",
       "previous_cancellations                 0\n",
       "previous_bookings_not_canceled         0\n",
       "reserved_room_type                     0\n",
       "assigned_room_type                     0\n",
       "booking_changes                        0\n",
       "deposit_type                           0\n",
       "agent                              15552\n",
       "company                           102741\n",
       "days_in_waiting_list                   0\n",
       "customer_type                          0\n",
       "adr                                    0\n",
       "required_car_parking_spaces            0\n",
       "total_of_special_requests              0\n",
       "reservation_status                     0\n",
       "reservation_status_date                0\n",
       "dtype: int64"
      ]
     },
     "execution_count": 5,
     "metadata": {},
     "output_type": "execute_result"
    }
   ],
   "source": [
    "# Mengecek missing value\n",
    "data_clean.isna().sum()"
   ]
  },
  {
   "cell_type": "markdown",
   "metadata": {},
   "source": [
    "* Handling missing value pada feature *company*\n",
    "\n",
    "Terdapat **112593** missing value. Karena jumlahnya terlalu banyak, maka tidak bisa diisi berdasarkan feature lain ataupun menggunakan mean, median, modus. Maka opsi yang saya lakukan adalah **drop**. "
   ]
  },
  {
   "cell_type": "code",
   "execution_count": 6,
   "metadata": {
    "ExecuteTime": {
     "end_time": "2020-09-09T01:28:49.621074Z",
     "start_time": "2020-09-09T01:28:49.606819Z"
    }
   },
   "outputs": [
    {
     "data": {
      "text/plain": [
       "102741"
      ]
     },
     "execution_count": 6,
     "metadata": {},
     "output_type": "execute_result"
    }
   ],
   "source": [
    "# Cek missing value pada feature company\n",
    "data_clean['company'].isna().sum()"
   ]
  },
  {
   "cell_type": "code",
   "execution_count": 7,
   "metadata": {
    "ExecuteTime": {
     "end_time": "2020-09-09T01:28:49.675924Z",
     "start_time": "2020-09-09T01:28:49.626878Z"
    }
   },
   "outputs": [],
   "source": [
    "# Drop\n",
    "data_clean = data_clean.drop(['company'], axis=1)"
   ]
  },
  {
   "cell_type": "markdown",
   "metadata": {},
   "source": [
    "* Handling missing value pada feature *children*\n",
    "\n",
    "Terdapat **4** missing values pada feature children. Kemungkinan karena memang customer tersebut tidak memiliki anak. Jadi saya isi dengan **0**."
   ]
  },
  {
   "cell_type": "code",
   "execution_count": 8,
   "metadata": {
    "ExecuteTime": {
     "end_time": "2020-09-09T01:28:49.691692Z",
     "start_time": "2020-09-09T01:28:49.680035Z"
    }
   },
   "outputs": [
    {
     "data": {
      "text/plain": [
       "4"
      ]
     },
     "execution_count": 8,
     "metadata": {},
     "output_type": "execute_result"
    }
   ],
   "source": [
    "# Cek missing value pada feature children\n",
    "data_clean['children'].isna().sum()"
   ]
  },
  {
   "cell_type": "code",
   "execution_count": 9,
   "metadata": {
    "ExecuteTime": {
     "end_time": "2020-09-09T01:28:49.717318Z",
     "start_time": "2020-09-09T01:28:49.695710Z"
    }
   },
   "outputs": [],
   "source": [
    "# Isi dengan 0\n",
    "data_clean['children'] = data['children'].fillna(0)"
   ]
  },
  {
   "cell_type": "markdown",
   "metadata": {},
   "source": [
    "* Handling missing value pada feature *country*\n",
    "\n",
    "Terdapat **488** missing value pada feature country. Karena tidak bisa diisi berdasarkan feature lain, jadi saya isikan **\"Unknown\"**."
   ]
  },
  {
   "cell_type": "code",
   "execution_count": 10,
   "metadata": {
    "ExecuteTime": {
     "end_time": "2020-09-09T01:28:49.741890Z",
     "start_time": "2020-09-09T01:28:49.721118Z"
    }
   },
   "outputs": [
    {
     "data": {
      "text/plain": [
       "467"
      ]
     },
     "execution_count": 10,
     "metadata": {},
     "output_type": "execute_result"
    }
   ],
   "source": [
    "data_clean['country'].isna().sum()"
   ]
  },
  {
   "cell_type": "code",
   "execution_count": 11,
   "metadata": {
    "ExecuteTime": {
     "end_time": "2020-09-09T01:28:49.764407Z",
     "start_time": "2020-09-09T01:28:49.743193Z"
    }
   },
   "outputs": [],
   "source": [
    "data_clean['country'] = data_clean['country'].fillna('Unknown')"
   ]
  },
  {
   "cell_type": "markdown",
   "metadata": {},
   "source": [
    "* Handling missing value pada feature *agent*\n",
    "\n",
    "Terdapat **16340** missing values pada feature agent. Saya isi dengan **0**."
   ]
  },
  {
   "cell_type": "code",
   "execution_count": 12,
   "metadata": {
    "ExecuteTime": {
     "end_time": "2020-09-09T01:28:49.784494Z",
     "start_time": "2020-09-09T01:28:49.770556Z"
    }
   },
   "outputs": [
    {
     "data": {
      "text/plain": [
       "15552"
      ]
     },
     "execution_count": 12,
     "metadata": {},
     "output_type": "execute_result"
    }
   ],
   "source": [
    "data_clean['agent'].isna().sum()"
   ]
  },
  {
   "cell_type": "code",
   "execution_count": 13,
   "metadata": {
    "ExecuteTime": {
     "end_time": "2020-09-09T01:28:49.806516Z",
     "start_time": "2020-09-09T01:28:49.788290Z"
    }
   },
   "outputs": [],
   "source": [
    "data_clean['agent'] = data['agent'].fillna(0)"
   ]
  },
  {
   "cell_type": "markdown",
   "metadata": {},
   "source": [
    "### 2. EXPLORATORY DATA ANALYSIS"
   ]
  },
  {
   "cell_type": "markdown",
   "metadata": {},
   "source": [
    "**A) Lead Time**"
   ]
  },
  {
   "cell_type": "code",
   "execution_count": 14,
   "metadata": {
    "ExecuteTime": {
     "end_time": "2020-09-09T01:28:50.227306Z",
     "start_time": "2020-09-09T01:28:49.809129Z"
    }
   },
   "outputs": [
    {
     "data": {
      "image/png": "[encoded data removed]",
      "text/plain": [
       "<Figure size 432x288 with 1 Axes>"
      ]
     },
     "metadata": {
      "needs_background": "light"
     },
     "output_type": "display_data"
    }
   ],
   "source": [
    "plt.hist(data_clean['lead_time'], color='darkcyan', bins=20)\n",
    "plt.title('Lead Time Histogram')\n",
    "plt.xlabel('Lead Time')\n",
    "plt.ylabel('Frequency')\n",
    "plt.show()"
   ]
  },
  {
   "cell_type": "code",
   "execution_count": 15,
   "metadata": {
    "ExecuteTime": {
     "end_time": "2020-09-09T01:28:50.261762Z",
     "start_time": "2020-09-09T01:28:50.230753Z"
    }
   },
   "outputs": [
    {
     "data": {
      "text/html": [
       "<div>\n",
       "<style scoped>\n",
       "    .dataframe tbody tr th:only-of-type {\n",
       "        vertical-align: middle;\n",
       "    }\n",
       "\n",
       "    .dataframe tbody tr th {\n",
       "        vertical-align: top;\n",
       "    }\n",
       "\n",
       "    .dataframe thead th {\n",
       "        text-align: right;\n",
       "    }\n",
       "</style>\n",
       "<table border=\"1\" class=\"dataframe\">\n",
       "  <thead>\n",
       "    <tr style=\"text-align: right;\">\n",
       "      <th></th>\n",
       "      <th>lead_time</th>\n",
       "      <th>is_canceled</th>\n",
       "    </tr>\n",
       "  </thead>\n",
       "  <tbody>\n",
       "    <tr>\n",
       "      <td>lead_time</td>\n",
       "      <td>1.000000</td>\n",
       "      <td>0.298541</td>\n",
       "    </tr>\n",
       "    <tr>\n",
       "      <td>is_canceled</td>\n",
       "      <td>0.298541</td>\n",
       "      <td>1.000000</td>\n",
       "    </tr>\n",
       "  </tbody>\n",
       "</table>\n",
       "</div>"
      ],
      "text/plain": [
       "             lead_time  is_canceled\n",
       "lead_time     1.000000     0.298541\n",
       "is_canceled   0.298541     1.000000"
      ]
     },
     "execution_count": 15,
     "metadata": {},
     "output_type": "execute_result"
    }
   ],
   "source": [
    "data_clean[['lead_time','is_canceled']].corr()"
   ]
  },
  {
   "cell_type": "markdown",
   "metadata": {
    "ExecuteTime": {
     "end_time": "2020-06-12T10:37:01.670979Z",
     "start_time": "2020-06-12T10:37:01.663999Z"
    }
   },
   "source": [
    "#### Kesimpulan:\n",
    "**Lead Time** berpengaruh signifikan terhadap variabel target."
   ]
  },
  {
   "cell_type": "markdown",
   "metadata": {},
   "source": [
    "**B) Time-Dependent Variables**"
   ]
  },
  {
   "cell_type": "code",
   "execution_count": 16,
   "metadata": {
    "ExecuteTime": {
     "end_time": "2020-09-09T01:28:51.520422Z",
     "start_time": "2020-09-09T01:28:50.266719Z"
    }
   },
   "outputs": [
    {
     "data": {
      "image/png": "[encoded data removed]",
      "text/plain": [
       "<Figure size 1080x1080 with 4 Axes>"
      ]
     },
     "metadata": {
      "needs_background": "light"
     },
     "output_type": "display_data"
    }
   ],
   "source": [
    "yearly_cancel_rate = data_clean.groupby(data_clean['arrival_date_year'])['is_canceled'].mean()\n",
    "monthly_cancel_rate = data_clean.groupby(data_clean['arrival_date_month'])['is_canceled'].mean()\n",
    "monthly_cancel_rate = monthly_cancel_rate[['January','February','March','April','May','June','July','August',\n",
    "                           'September','October','November','December']]\n",
    "weekly_cancel_rate = data_clean.groupby(data_clean['arrival_date_week_number'])['is_canceled'].mean()\n",
    "daily_cancel_rate = data_clean.groupby(data_clean['arrival_date_day_of_month'])['is_canceled'].mean()\n",
    "\n",
    "fig, ax = plt.subplots(2,2,figsize=(15,15))\n",
    "fig.suptitle('Time Dependent Variables')\n",
    "ax[0,0].bar(yearly_cancel_rate.index, yearly_cancel_rate)\n",
    "ax[0,0].set_xticks([2015,2016,2017])\n",
    "ax[0,0].set_xlabel('Year')\n",
    "ax[0,0].set_ylabel('Cancellation Ratio')\n",
    "\n",
    "ax[0,1].bar(monthly_cancel_rate.index, monthly_cancel_rate)\n",
    "ax[0,1].tick_params(axis='x',rotation=45)\n",
    "ax[0,1].set_xlabel('Month')\n",
    "ax[0,1].set_ylabel('Cancellation Ratio')\n",
    "\n",
    "\n",
    "ax[1,0].bar(weekly_cancel_rate.index, weekly_cancel_rate)\n",
    "ax[1,0].set_xlabel('Week Number')\n",
    "ax[1,0].set_ylabel('Cancellation Ratio')\n",
    "\n",
    "ax[1,1].bar(daily_cancel_rate.index, daily_cancel_rate)\n",
    "ax[1,1].set_xlabel('Day')\n",
    "ax[1,1].set_ylabel('Cancellation Ratio')\n",
    "plt.show()"
   ]
  },
  {
   "cell_type": "markdown",
   "metadata": {
    "ExecuteTime": {
     "end_time": "2020-06-12T10:39:37.043012Z",
     "start_time": "2020-06-12T10:39:37.036029Z"
    }
   },
   "source": [
    "#### Kesimpulan:\n",
    "* Terdapat tren peningkatan pembatalan dari tahun 2015 hingga 2017, tetapi karena kurangnya data historis *Year*, saya tidak akan menggunakan feature ini untuk modeling.\n",
    "* Ada perbedaan jumlah cancel setiap musim. Terutama bulan dan minggu musim semi dan musim panas cenderung memiliki lebih banyak pembatalan\n",
    "* Variabel *Day* tidak berpengaruh banyak."
   ]
  },
  {
   "cell_type": "markdown",
   "metadata": {},
   "source": [
    "**C) Weekend vs Week**"
   ]
  },
  {
   "cell_type": "code",
   "execution_count": 17,
   "metadata": {
    "ExecuteTime": {
     "end_time": "2020-09-09T01:28:51.604648Z",
     "start_time": "2020-09-09T01:28:51.525148Z"
    }
   },
   "outputs": [],
   "source": [
    "data_clean['weekend_week_rto'] = data_clean['stays_in_weekend_nights'] / data_clean['stays_in_weekend_nights']\n",
    "data_clean['weekend_week_rto'] = data_clean['weekend_week_rto'].fillna(0)"
   ]
  },
  {
   "cell_type": "code",
   "execution_count": 18,
   "metadata": {
    "ExecuteTime": {
     "end_time": "2020-09-09T01:28:52.411554Z",
     "start_time": "2020-09-09T01:28:51.615486Z"
    }
   },
   "outputs": [
    {
     "data": {
      "image/png": "[encoded data removed]",
      "text/plain": [
       "<Figure size 1080x720 with 3 Axes>"
      ]
     },
     "metadata": {
      "needs_background": "light"
     },
     "output_type": "display_data"
    }
   ],
   "source": [
    "fig, ax = plt.subplots(1,3,figsize=(15,10))\n",
    "fig.suptitle('Weekend vs Week')\n",
    "sns.boxplot(ax=ax[0],x=\"is_canceled\", y='stays_in_weekend_nights', data=data_clean)\n",
    "sns.boxplot(ax=ax[1],x=\"is_canceled\", y='stays_in_weekend_nights', data=data_clean)\n",
    "sns.boxplot(ax=ax[2],x=\"is_canceled\", y='weekend_week_rto', data=data_clean)\n",
    "plt.show()"
   ]
  },
  {
   "cell_type": "code",
   "execution_count": 19,
   "metadata": {
    "ExecuteTime": {
     "end_time": "2020-09-09T01:28:52.466648Z",
     "start_time": "2020-09-09T01:28:52.417403Z"
    }
   },
   "outputs": [
    {
     "data": {
      "text/html": [
       "<div>\n",
       "<style scoped>\n",
       "    .dataframe tbody tr th:only-of-type {\n",
       "        vertical-align: middle;\n",
       "    }\n",
       "\n",
       "    .dataframe tbody tr th {\n",
       "        vertical-align: top;\n",
       "    }\n",
       "\n",
       "    .dataframe thead th {\n",
       "        text-align: right;\n",
       "    }\n",
       "</style>\n",
       "<table border=\"1\" class=\"dataframe\">\n",
       "  <thead>\n",
       "    <tr style=\"text-align: right;\">\n",
       "      <th></th>\n",
       "      <th>stays_in_weekend_nights</th>\n",
       "      <th>weekend_week_rto</th>\n",
       "      <th>is_canceled</th>\n",
       "    </tr>\n",
       "  </thead>\n",
       "  <tbody>\n",
       "    <tr>\n",
       "      <td>stays_in_weekend_nights</td>\n",
       "      <td>1.000000</td>\n",
       "      <td>0.880058</td>\n",
       "      <td>0.005392</td>\n",
       "    </tr>\n",
       "    <tr>\n",
       "      <td>weekend_week_rto</td>\n",
       "      <td>0.880058</td>\n",
       "      <td>1.000000</td>\n",
       "      <td>0.000369</td>\n",
       "    </tr>\n",
       "    <tr>\n",
       "      <td>is_canceled</td>\n",
       "      <td>0.005392</td>\n",
       "      <td>0.000369</td>\n",
       "      <td>1.000000</td>\n",
       "    </tr>\n",
       "  </tbody>\n",
       "</table>\n",
       "</div>"
      ],
      "text/plain": [
       "                         stays_in_weekend_nights  weekend_week_rto  \\\n",
       "stays_in_weekend_nights                 1.000000          0.880058   \n",
       "weekend_week_rto                        0.880058          1.000000   \n",
       "is_canceled                             0.005392          0.000369   \n",
       "\n",
       "                         is_canceled  \n",
       "stays_in_weekend_nights     0.005392  \n",
       "weekend_week_rto            0.000369  \n",
       "is_canceled                 1.000000  "
      ]
     },
     "execution_count": 19,
     "metadata": {},
     "output_type": "execute_result"
    }
   ],
   "source": [
    "data_clean[['stays_in_weekend_nights','weekend_week_rto','is_canceled']].corr()"
   ]
  },
  {
   "cell_type": "markdown",
   "metadata": {},
   "source": [
    "#### **Kesimpulan:**\n",
    "**weekend_week_rto** dan **stays_in_weekend_nights** tidak berpengaruh terhadap variabel target."
   ]
  },
  {
   "cell_type": "markdown",
   "metadata": {},
   "source": [
    "**D) Number of People**"
   ]
  },
  {
   "cell_type": "code",
   "execution_count": 20,
   "metadata": {
    "ExecuteTime": {
     "end_time": "2020-09-09T01:29:04.745976Z",
     "start_time": "2020-09-09T01:28:52.468641Z"
    }
   },
   "outputs": [
    {
     "data": {
      "image/png": "[encoded data removed]",
      "text/plain": [
       "<Figure size 864x864 with 4 Axes>"
      ]
     },
     "metadata": {
      "needs_background": "light"
     },
     "output_type": "display_data"
    }
   ],
   "source": [
    "data_clean['people_count'] = data_clean['adults'] + data_clean['children'] + data_clean['babies']\n",
    "fig, ax = plt.subplots(2,2,figsize=(12,12))\n",
    "fig.suptitle('Number of People')\n",
    "sns.set_palette(sns.color_palette(\"coolwarm\", 2))\n",
    "sns.violinplot(ax=ax[0,0],x=\"is_canceled\", y='adults', data=data_clean)\n",
    "sns.violinplot(ax=ax[0,1],x=\"is_canceled\", y='children', data=data_clean)\n",
    "sns.violinplot(ax=ax[1,0],x=\"is_canceled\", y='babies', data=data_clean)\n",
    "sns.set_palette(sns.dark_palette(\"purple\"))\n",
    "sns.violinplot(ax=ax[1,1],x=\"is_canceled\", y='people_count', data=data_clean)\n",
    "plt.show()"
   ]
  },
  {
   "cell_type": "code",
   "execution_count": 21,
   "metadata": {
    "ExecuteTime": {
     "end_time": "2020-09-09T01:29:04.783304Z",
     "start_time": "2020-09-09T01:29:04.751719Z"
    }
   },
   "outputs": [
    {
     "data": {
      "text/html": [
       "<div>\n",
       "<style scoped>\n",
       "    .dataframe tbody tr th:only-of-type {\n",
       "        vertical-align: middle;\n",
       "    }\n",
       "\n",
       "    .dataframe tbody tr th {\n",
       "        vertical-align: top;\n",
       "    }\n",
       "\n",
       "    .dataframe thead th {\n",
       "        text-align: right;\n",
       "    }\n",
       "</style>\n",
       "<table border=\"1\" class=\"dataframe\">\n",
       "  <thead>\n",
       "    <tr style=\"text-align: right;\">\n",
       "      <th></th>\n",
       "      <th>people_count</th>\n",
       "      <th>is_canceled</th>\n",
       "    </tr>\n",
       "  </thead>\n",
       "  <tbody>\n",
       "    <tr>\n",
       "      <td>people_count</td>\n",
       "      <td>1.000000</td>\n",
       "      <td>0.047742</td>\n",
       "    </tr>\n",
       "    <tr>\n",
       "      <td>is_canceled</td>\n",
       "      <td>0.047742</td>\n",
       "      <td>1.000000</td>\n",
       "    </tr>\n",
       "  </tbody>\n",
       "</table>\n",
       "</div>"
      ],
      "text/plain": [
       "              people_count  is_canceled\n",
       "people_count      1.000000     0.047742\n",
       "is_canceled       0.047742     1.000000"
      ]
     },
     "execution_count": 21,
     "metadata": {},
     "output_type": "execute_result"
    }
   ],
   "source": [
    "data_clean[['people_count','is_canceled']].corr()"
   ]
  },
  {
   "cell_type": "markdown",
   "metadata": {
    "ExecuteTime": {
     "end_time": "2020-06-12T11:04:43.004097Z",
     "start_time": "2020-06-12T11:04:42.998113Z"
    }
   },
   "source": [
    "#### Kesimpulan: \n",
    "Terdapat pengaruh **people_count** terhadap variabel target. Karena semakin banyak orang dalam satu booking, semakin besar kemungkinan pembatalan. "
   ]
  },
  {
   "cell_type": "markdown",
   "metadata": {},
   "source": [
    "**E) Meals**"
   ]
  },
  {
   "cell_type": "code",
   "execution_count": 22,
   "metadata": {
    "ExecuteTime": {
     "end_time": "2020-09-09T01:29:05.147413Z",
     "start_time": "2020-09-09T01:29:04.789215Z"
    }
   },
   "outputs": [
    {
     "data": {
      "image/png": "[encoded data removed]",
      "text/plain": [
       "<Figure size 432x288 with 1 Axes>"
      ]
     },
     "metadata": {
      "needs_background": "light"
     },
     "output_type": "display_data"
    },
    {
     "name": "stdout",
     "output_type": "stream",
     "text": [
      "meal\n",
      "BB           85398\n",
      "FB             700\n",
      "HB           11766\n",
      "SC           10506\n",
      "Undefined     1055\n",
      "Name: meal, dtype: int64\n"
     ]
    }
   ],
   "source": [
    "meal = data_clean.groupby(data['meal']).mean()['is_canceled']\n",
    "plt.bar(x=meal.index, height=meal.values, color='khaki')\n",
    "plt.title('Meal - Is Canceled Bar Plot')\n",
    "plt.xlabel('Meal Type')\n",
    "plt.ylabel('Cancellation ratio')\n",
    "plt.show()\n",
    "\n",
    "print(data_clean['meal'].groupby(data_clean['meal']).count())"
   ]
  },
  {
   "cell_type": "markdown",
   "metadata": {
    "ExecuteTime": {
     "end_time": "2020-06-12T11:20:04.640586Z",
     "start_time": "2020-06-12T11:20:04.619690Z"
    }
   },
   "source": [
    "#### Kesimpulan:\n",
    "\n",
    "Terdapat pengaruh **meal** terhadap variabel target."
   ]
  },
  {
   "cell_type": "markdown",
   "metadata": {},
   "source": [
    "**F) Distribution Channel**"
   ]
  },
  {
   "cell_type": "code",
   "execution_count": 23,
   "metadata": {
    "ExecuteTime": {
     "end_time": "2020-09-09T01:29:05.508680Z",
     "start_time": "2020-09-09T01:29:05.150906Z"
    }
   },
   "outputs": [
    {
     "data": {
      "image/png": "[encoded data removed]",
      "text/plain": [
       "<Figure size 432x288 with 1 Axes>"
      ]
     },
     "metadata": {
      "needs_background": "light"
     },
     "output_type": "display_data"
    }
   ],
   "source": [
    "distchan = data_clean.groupby(data_clean['distribution_channel']).mean()['is_canceled']\n",
    "plt.bar(x=distchan.index, height=distchan.values, color='lightcoral')\n",
    "plt.title('Distribution Channel - Is Canceled Bar Plot')\n",
    "plt.xlabel('Channel Type')\n",
    "plt.ylabel('cancellation ratio')\n",
    "plt.show()"
   ]
  },
  {
   "cell_type": "markdown",
   "metadata": {},
   "source": [
    "#### Kesimpulan\n",
    "Terdapat pengaruh **Distribution Channel** terhadap variabel target."
   ]
  },
  {
   "cell_type": "markdown",
   "metadata": {},
   "source": [
    "**G) Repeated Guest or Not**"
   ]
  },
  {
   "cell_type": "code",
   "execution_count": 24,
   "metadata": {
    "ExecuteTime": {
     "end_time": "2020-09-09T01:29:05.807137Z",
     "start_time": "2020-09-09T01:29:05.513485Z"
    }
   },
   "outputs": [
    {
     "data": {
      "text/plain": [
       "Text(0, 0.5, 'Cancellation Ratio')"
      ]
     },
     "execution_count": 24,
     "metadata": {},
     "output_type": "execute_result"
    },
    {
     "data": {
      "image/png": "[encoded data removed]",
      "text/plain": [
       "<Figure size 432x288 with 1 Axes>"
      ]
     },
     "metadata": {
      "needs_background": "light"
     },
     "output_type": "display_data"
    }
   ],
   "source": [
    "rep = data_clean.groupby(data['is_repeated_guest']).mean()['is_canceled']\n",
    "plt.bar(x=rep.index, height=rep.values, color='darkgray')\n",
    "plt.xticks([0,1])\n",
    "plt.title('Is Repeated Guest - Is Canceled Bar Plot')\n",
    "plt.xlabel('Is Repeated Guest')\n",
    "plt.ylabel('Cancellation Ratio')"
   ]
  },
  {
   "cell_type": "markdown",
   "metadata": {},
   "source": [
    "#### Kesimpulan:\n",
    "Customer yang pernah booking sebelumnya tingkat pembatalannya semakin kecil. "
   ]
  },
  {
   "cell_type": "markdown",
   "metadata": {},
   "source": [
    "**H) Past Cancellations**"
   ]
  },
  {
   "cell_type": "code",
   "execution_count": 25,
   "metadata": {
    "ExecuteTime": {
     "end_time": "2020-09-09T01:29:10.654052Z",
     "start_time": "2020-09-09T01:29:05.810980Z"
    }
   },
   "outputs": [
    {
     "data": {
      "image/png": "[encoded data removed]",
      "text/plain": [
       "<Figure size 432x432 with 1 Axes>"
      ]
     },
     "metadata": {
      "needs_background": "light"
     },
     "output_type": "display_data"
    }
   ],
   "source": [
    "# With the PreeviousCancellations and PreviusBookingsNotCanceled variable, we may compute the ratio\n",
    "cancel_rto = data_clean['previous_cancellations'] / (data_clean['previous_cancellations'] + data_clean['previous_bookings_not_canceled'])\n",
    "cancel_rto = cancel_rto.fillna(0)\n",
    "data_clean['previous_cancellation_ratio'] = cancel_rto\n",
    "\n",
    "sns.set_palette(sns.color_palette(\"BuGn_r\", 2))\n",
    "fig, ax = plt.subplots(1,1,figsize=(6,6))\n",
    "plt.title('Previous Cancellation Ratio - Is Canceled Bar Plot')\n",
    "sns.barplot(x=\"is_canceled\", y='previous_cancellation_ratio', data=data_clean)\n",
    "plt.show()"
   ]
  },
  {
   "cell_type": "markdown",
   "metadata": {},
   "source": [
    "#### Kesimpulan:\n",
    "Customer yang pernah melakukan pembatalan sebelumnya, semakin besar kemungkinan akan melakukan pembatalan lagi."
   ]
  },
  {
   "cell_type": "markdown",
   "metadata": {},
   "source": [
    "**I) Booking Changes**"
   ]
  },
  {
   "cell_type": "code",
   "execution_count": 26,
   "metadata": {
    "ExecuteTime": {
     "end_time": "2020-09-09T01:29:14.408698Z",
     "start_time": "2020-09-09T01:29:10.657787Z"
    }
   },
   "outputs": [
    {
     "data": {
      "image/png": "[encoded data removed]",
      "text/plain": [
       "<Figure size 360x576 with 1 Axes>"
      ]
     },
     "metadata": {
      "needs_background": "light"
     },
     "output_type": "display_data"
    }
   ],
   "source": [
    "fig, ax = plt.subplots(figsize=(5,8))\n",
    "sns.set_palette(sns.color_palette(\"coolwarm\", 3))\n",
    "sns.violinplot(x=\"is_canceled\", y='booking_changes', data=data_clean)\n",
    "plt.title('Booking Changes - Is Canceled Violin Plot')\n",
    "plt.show()"
   ]
  },
  {
   "cell_type": "markdown",
   "metadata": {},
   "source": [
    "#### Kesimpulan:\n",
    "**Booking Changes** tidak terlalu signifikan terhadap variabel target"
   ]
  },
  {
   "cell_type": "markdown",
   "metadata": {},
   "source": [
    "**J) Payment Condition**"
   ]
  },
  {
   "cell_type": "code",
   "execution_count": 27,
   "metadata": {
    "ExecuteTime": {
     "end_time": "2020-09-09T01:29:14.760454Z",
     "start_time": "2020-09-09T01:29:14.413100Z"
    }
   },
   "outputs": [
    {
     "data": {
      "image/png": "[encoded data removed]",
      "text/plain": [
       "<Figure size 432x288 with 1 Axes>"
      ]
     },
     "metadata": {
      "needs_background": "light"
     },
     "output_type": "display_data"
    }
   ],
   "source": [
    "deptype = data_clean.groupby(data_clean['deposit_type']).mean()['is_canceled']\n",
    "plt.bar(x=deptype.index, height=deptype.values, color='lightsteelblue')\n",
    "plt.title('Deposit Type - Is Canceled Bar Plot')\n",
    "plt.xlabel('Payment Conditions')\n",
    "plt.ylabel('Cancellation Ratio')\n",
    "plt.show()"
   ]
  },
  {
   "cell_type": "code",
   "execution_count": 28,
   "metadata": {
    "ExecuteTime": {
     "end_time": "2020-09-09T01:29:14.798539Z",
     "start_time": "2020-09-09T01:29:14.764618Z"
    }
   },
   "outputs": [
    {
     "data": {
      "text/plain": [
       "deposit_type\n",
       "No Deposit    96526\n",
       "Non Refund    12747\n",
       "Refundable      152\n",
       "Name: deposit_type, dtype: int64"
      ]
     },
     "execution_count": 28,
     "metadata": {},
     "output_type": "execute_result"
    }
   ],
   "source": [
    "data_clean['deposit_type'].groupby(data_clean['deposit_type']).count()"
   ]
  },
  {
   "cell_type": "markdown",
   "metadata": {},
   "source": [
    "#### Kesimpulan:\n",
    "Kenapa **Non-Refund Payment Conditions memiliki tingkat pembatalan yang lebih tinggi?** Kemungkinan pihak hotel menetapkan tidak dapat memberikan refund kepada customer dalam periode waktu tertentu di mana sebagian besar customer cenderung membatalkan reservasi."
   ]
  },
  {
   "cell_type": "markdown",
   "metadata": {},
   "source": [
    "**K) Days in Waiting List**"
   ]
  },
  {
   "cell_type": "code",
   "execution_count": 29,
   "metadata": {
    "ExecuteTime": {
     "end_time": "2020-09-09T01:29:18.190939Z",
     "start_time": "2020-09-09T01:29:14.807000Z"
    }
   },
   "outputs": [
    {
     "data": {
      "image/png": "[encoded data removed]",
      "text/plain": [
       "<Figure size 360x576 with 1 Axes>"
      ]
     },
     "metadata": {
      "needs_background": "light"
     },
     "output_type": "display_data"
    }
   ],
   "source": [
    "fig, ax = plt.subplots(figsize=(5,8))\n",
    "sns.set_palette(sns.color_palette(\"cubehelix\", 2))\n",
    "sns.violinplot(x=\"is_canceled\", y='days_in_waiting_list', data=data_clean)\n",
    "plt.title('Days in Waiting List')\n",
    "plt.show()"
   ]
  },
  {
   "cell_type": "markdown",
   "metadata": {
    "ExecuteTime": {
     "end_time": "2020-06-12T11:55:06.781130Z",
     "start_time": "2020-06-12T11:55:06.772077Z"
    }
   },
   "source": [
    "#### Kesimpulan:\n",
    "Semakin lama waktu tunggu, tingkat pembatalan semakin kecil. Menurut opini saya kemungkinan customer tidak ingin membatalkan reservasi yang sudah ditunggu sejak lama."
   ]
  },
  {
   "cell_type": "markdown",
   "metadata": {},
   "source": [
    "**L) Customer Type**"
   ]
  },
  {
   "cell_type": "code",
   "execution_count": 30,
   "metadata": {
    "ExecuteTime": {
     "end_time": "2020-09-09T01:29:18.723944Z",
     "start_time": "2020-09-09T01:29:18.194982Z"
    }
   },
   "outputs": [
    {
     "data": {
      "image/png": "[encoded data removed]",
      "text/plain": [
       "<Figure size 432x288 with 1 Axes>"
      ]
     },
     "metadata": {
      "needs_background": "light"
     },
     "output_type": "display_data"
    },
    {
     "name": "stdout",
     "output_type": "stream",
     "text": [
      "customer_type\n",
      "Contract            3388\n",
      "Group                547\n",
      "Transient          82153\n",
      "Transient-Party    23337\n",
      "Name: is_canceled, dtype: int64\n"
     ]
    }
   ],
   "source": [
    "custtype = data_clean.groupby(data_clean['customer_type']).mean()['is_canceled']\n",
    "plt.bar(x=custtype.index, height=custtype.values)\n",
    "plt.xticks(rotation=45)\n",
    "plt.title('Customer Type - Is Canceled Bar plot')\n",
    "plt.xlabel(\"CustomerType\")\n",
    "plt.ylabel('Cancellation Ratio')\n",
    "plt.show()\n",
    "print(data.groupby(data_clean['customer_type']).count()['is_canceled'])"
   ]
  },
  {
   "cell_type": "markdown",
   "metadata": {},
   "source": [
    "#### Kesimpulan:\n",
    "Customer yang bertipe **Transient** cenderung lebih sering membatalkan reservasi."
   ]
  },
  {
   "cell_type": "markdown",
   "metadata": {},
   "source": [
    "**M) Average Daily Rate (ADR)**"
   ]
  },
  {
   "cell_type": "code",
   "execution_count": 31,
   "metadata": {
    "ExecuteTime": {
     "end_time": "2020-09-09T01:29:19.364641Z",
     "start_time": "2020-09-09T01:29:18.728805Z"
    }
   },
   "outputs": [
    {
     "data": {
      "image/png": "[encoded data removed]",
      "text/plain": [
       "<Figure size 360x576 with 1 Axes>"
      ]
     },
     "metadata": {
      "needs_background": "light"
     },
     "output_type": "display_data"
    }
   ],
   "source": [
    "fig, ax = plt.subplots(figsize=(5,8))\n",
    "sns.violinplot(x=\"is_canceled\", y='adr', data=data_clean)\n",
    "plt.title('ADR - Is Canceled Violin plot')\n",
    "plt.show()"
   ]
  },
  {
   "cell_type": "markdown",
   "metadata": {},
   "source": [
    "#### Kesimpulan:\n",
    "Average Daily Rate tidak memiliki pengaruh terhadap variabel target"
   ]
  },
  {
   "cell_type": "markdown",
   "metadata": {},
   "source": [
    "**N) Parking Space Requested**"
   ]
  },
  {
   "cell_type": "code",
   "execution_count": 32,
   "metadata": {
    "ExecuteTime": {
     "end_time": "2020-09-09T01:29:19.401250Z",
     "start_time": "2020-09-09T01:29:19.368933Z"
    }
   },
   "outputs": [
    {
     "data": {
      "text/html": [
       "<div>\n",
       "<style scoped>\n",
       "    .dataframe tbody tr th:only-of-type {\n",
       "        vertical-align: middle;\n",
       "    }\n",
       "\n",
       "    .dataframe tbody tr th {\n",
       "        vertical-align: top;\n",
       "    }\n",
       "\n",
       "    .dataframe thead th {\n",
       "        text-align: right;\n",
       "    }\n",
       "</style>\n",
       "<table border=\"1\" class=\"dataframe\">\n",
       "  <thead>\n",
       "    <tr style=\"text-align: right;\">\n",
       "      <th></th>\n",
       "      <th>required_car_parking_spaces</th>\n",
       "      <th>people_count</th>\n",
       "    </tr>\n",
       "  </thead>\n",
       "  <tbody>\n",
       "    <tr>\n",
       "      <td>required_car_parking_spaces</td>\n",
       "      <td>1.000000</td>\n",
       "      <td>0.035114</td>\n",
       "    </tr>\n",
       "    <tr>\n",
       "      <td>people_count</td>\n",
       "      <td>0.035114</td>\n",
       "      <td>1.000000</td>\n",
       "    </tr>\n",
       "  </tbody>\n",
       "</table>\n",
       "</div>"
      ],
      "text/plain": [
       "                             required_car_parking_spaces  people_count\n",
       "required_car_parking_spaces                     1.000000      0.035114\n",
       "people_count                                    0.035114      1.000000"
      ]
     },
     "execution_count": 32,
     "metadata": {},
     "output_type": "execute_result"
    }
   ],
   "source": [
    "data_clean[['required_car_parking_spaces', 'people_count']].corr()"
   ]
  },
  {
   "cell_type": "code",
   "execution_count": 33,
   "metadata": {
    "ExecuteTime": {
     "end_time": "2020-09-09T01:29:19.776229Z",
     "start_time": "2020-09-09T01:29:19.407236Z"
    }
   },
   "outputs": [
    {
     "data": {
      "image/png": "[encoded data removed]",
      "text/plain": [
       "<Figure size 432x288 with 1 Axes>"
      ]
     },
     "metadata": {
      "needs_background": "light"
     },
     "output_type": "display_data"
    }
   ],
   "source": [
    "parking = data_clean.groupby(data_clean['required_car_parking_spaces']).mean()['is_canceled']\n",
    "plt.bar(x=parking.index, height=parking.values, color='crimson')\n",
    "plt.title('Required Car Parking Spaces - IsCanceled Bar plot')\n",
    "plt.xlabel('Number of Parking Spaces Requested')\n",
    "plt.ylabel('Cancellation Ratio')\n",
    "plt.show()"
   ]
  },
  {
   "cell_type": "markdown",
   "metadata": {},
   "source": [
    "#### Kesimpulan:\n",
    "**Parking Space Requested** tidak terdapat pengaruh terhadap variabel target."
   ]
  },
  {
   "cell_type": "markdown",
   "metadata": {},
   "source": [
    "**O) Number of Specific Requests**"
   ]
  },
  {
   "cell_type": "code",
   "execution_count": 34,
   "metadata": {
    "ExecuteTime": {
     "end_time": "2020-09-09T01:29:20.150971Z",
     "start_time": "2020-09-09T01:29:19.780552Z"
    }
   },
   "outputs": [
    {
     "data": {
      "image/png": "[encoded data removed]",
      "text/plain": [
       "<Figure size 432x288 with 1 Axes>"
      ]
     },
     "metadata": {
      "needs_background": "light"
     },
     "output_type": "display_data"
    }
   ],
   "source": [
    "specreq = data_clean.groupby(data_clean['total_of_special_requests']).mean()['is_canceled']\n",
    "plt.bar(x=specreq.index, height=specreq.values, color='lightgreen')\n",
    "plt.xlabel('Number of Requests')\n",
    "plt.ylabel('Cancellation Ratio')\n",
    "plt.title('Total of Special Requests - Is Canceled Bar plot')\n",
    "plt.show()"
   ]
  },
  {
   "cell_type": "markdown",
   "metadata": {},
   "source": [
    "#### Kesimpulan: \n",
    "Semakin banyak permintaan tambahan dari customer (seperti twin bed, makanan khusus, dll.), Semakin kecil customer membatalkan reservasi."
   ]
  },
  {
   "cell_type": "markdown",
   "metadata": {},
   "source": [
    "**P) Market Segment**"
   ]
  },
  {
   "cell_type": "code",
   "execution_count": 35,
   "metadata": {
    "ExecuteTime": {
     "end_time": "2020-09-09T01:29:20.613905Z",
     "start_time": "2020-09-09T01:29:20.156428Z"
    }
   },
   "outputs": [
    {
     "data": {
      "image/png": "[encoded data removed]",
      "text/plain": [
       "<Figure size 432x288 with 1 Axes>"
      ]
     },
     "metadata": {
      "needs_background": "light"
     },
     "output_type": "display_data"
    },
    {
     "name": "stdout",
     "output_type": "stream",
     "text": [
      "market_segment\n",
      "Aviation           214\n",
      "Complementary      736\n",
      "Corporate         5201\n",
      "Direct           11374\n",
      "Groups           17491\n",
      "Offline TA/TO    21937\n",
      "Online TA        52470\n",
      "Undefined            2\n",
      "Name: market_segment, dtype: int64\n"
     ]
    }
   ],
   "source": [
    "marketseg = data_clean.groupby(data_clean['market_segment']).mean()['is_canceled']\n",
    "plt.bar(x=marketseg.index, height=marketseg.values, color='lightblue')\n",
    "plt.xticks(rotation=45)\n",
    "plt.title('Market Segment')\n",
    "plt.xlabel('market segment')\n",
    "plt.ylabel('Cancellation Ratio')\n",
    "plt.show()\n",
    "\n",
    "print(data_clean['market_segment'].groupby(data_clean['market_segment']).count())"
   ]
  },
  {
   "cell_type": "markdown",
   "metadata": {},
   "source": [
    "#### Kesimpulan:\n",
    "Jenis segmen market tertentu memiliki rasio pembatalan yang lebih tinggi."
   ]
  },
  {
   "cell_type": "code",
   "execution_count": 36,
   "metadata": {
    "ExecuteTime": {
     "end_time": "2020-09-09T01:29:20.630139Z",
     "start_time": "2020-09-09T01:29:20.618618Z"
    }
   },
   "outputs": [
    {
     "data": {
      "text/plain": [
       "array([0, 1], dtype=int64)"
      ]
     },
     "execution_count": 36,
     "metadata": {},
     "output_type": "execute_result"
    }
   ],
   "source": [
    "np.unique(data_clean['is_canceled'])"
   ]
  },
  {
   "cell_type": "markdown",
   "metadata": {
    "ExecuteTime": {
     "end_time": "2020-09-09T01:19:30.889636Z",
     "start_time": "2020-09-09T01:19:30.883567Z"
    }
   },
   "source": [
    "### 3. BUILDING MODEL & HYPER-PARAMETER TUNING"
   ]
  },
  {
   "cell_type": "markdown",
   "metadata": {},
   "source": [
    "#### A) Preprocess Features"
   ]
  },
  {
   "cell_type": "code",
   "execution_count": 37,
   "metadata": {
    "ExecuteTime": {
     "end_time": "2020-09-09T01:29:21.266895Z",
     "start_time": "2020-09-09T01:29:20.632421Z"
    }
   },
   "outputs": [],
   "source": [
    "# month to season\n",
    "spr_sum = ['March','April','May','June','July','August']  # 1\n",
    "fal_win = ['September','October','November','December','January','February']  # 0\n",
    "data_clean['arrival_season'] = data_clean['arrival_date_month'].apply(lambda x : int(x in spr_sum))\n",
    "\n",
    "# Reduce Marketsegment\n",
    "ones = ['Online TA','Groups']\n",
    "data_clean['MarketSegENC'] = data_clean['market_segment'].apply(lambda x : int(x in ones))\n",
    "\n",
    "# Deposit type to binary : Non-refundable or Not\n",
    "data_clean['NonRefundable'] = data_clean['deposit_type'].apply(lambda x : int(x == 'Non Refund'))\n",
    "\n",
    "# Transient Customers or Not\n",
    "ones = ['Transient','Transient-Party']\n",
    "data_clean['TransientCust'] = data_clean['customer_type'].apply(lambda x : int(x in ones))\n",
    "\n",
    "# Required Parking Space or Not\n",
    "data_clean['NeedParking'] = data_clean['required_car_parking_spaces'].apply(lambda x : int(x != 0))"
   ]
  },
  {
   "cell_type": "markdown",
   "metadata": {},
   "source": [
    "#### B) Feature Selection"
   ]
  },
  {
   "cell_type": "code",
   "execution_count": 38,
   "metadata": {
    "ExecuteTime": {
     "end_time": "2020-09-09T01:29:21.283226Z",
     "start_time": "2020-09-09T01:29:21.270859Z"
    }
   },
   "outputs": [
    {
     "data": {
      "text/plain": [
       "Index(['hotel', 'is_canceled', 'lead_time', 'arrival_date_year',\n",
       "       'arrival_date_month', 'arrival_date_week_number',\n",
       "       'arrival_date_day_of_month', 'stays_in_weekend_nights',\n",
       "       'stays_in_week_nights', 'adults', 'children', 'babies', 'meal',\n",
       "       'country', 'market_segment', 'distribution_channel',\n",
       "       'is_repeated_guest', 'previous_cancellations',\n",
       "       'previous_bookings_not_canceled', 'reserved_room_type',\n",
       "       'assigned_room_type', 'booking_changes', 'deposit_type', 'agent',\n",
       "       'days_in_waiting_list', 'customer_type', 'adr',\n",
       "       'required_car_parking_spaces', 'total_of_special_requests',\n",
       "       'reservation_status', 'reservation_status_date', 'weekend_week_rto',\n",
       "       'people_count', 'previous_cancellation_ratio', 'arrival_season',\n",
       "       'MarketSegENC', 'NonRefundable', 'TransientCust', 'NeedParking'],\n",
       "      dtype='object')"
      ]
     },
     "execution_count": 38,
     "metadata": {},
     "output_type": "execute_result"
    }
   ],
   "source": [
    "data_clean.columns"
   ]
  },
  {
   "cell_type": "code",
   "execution_count": 39,
   "metadata": {
    "ExecuteTime": {
     "end_time": "2020-09-09T01:29:21.394459Z",
     "start_time": "2020-09-09T01:29:21.287729Z"
    }
   },
   "outputs": [
    {
     "data": {
      "text/html": [
       "<div>\n",
       "<style scoped>\n",
       "    .dataframe tbody tr th:only-of-type {\n",
       "        vertical-align: middle;\n",
       "    }\n",
       "\n",
       "    .dataframe tbody tr th {\n",
       "        vertical-align: top;\n",
       "    }\n",
       "\n",
       "    .dataframe thead th {\n",
       "        text-align: right;\n",
       "    }\n",
       "</style>\n",
       "<table border=\"1\" class=\"dataframe\">\n",
       "  <thead>\n",
       "    <tr style=\"text-align: right;\">\n",
       "      <th></th>\n",
       "      <th>is_canceled</th>\n",
       "      <th>lead_time</th>\n",
       "      <th>arrival_season</th>\n",
       "      <th>people_count</th>\n",
       "      <th>meal</th>\n",
       "      <th>MarketSegENC</th>\n",
       "      <th>distribution_channel</th>\n",
       "      <th>is_repeated_guest</th>\n",
       "      <th>previous_cancellation_ratio</th>\n",
       "      <th>NonRefundable</th>\n",
       "      <th>days_in_waiting_list</th>\n",
       "      <th>TransientCust</th>\n",
       "      <th>NeedParking</th>\n",
       "    </tr>\n",
       "  </thead>\n",
       "  <tbody>\n",
       "    <tr>\n",
       "      <td>0</td>\n",
       "      <td>0</td>\n",
       "      <td>342</td>\n",
       "      <td>1</td>\n",
       "      <td>2.0</td>\n",
       "      <td>BB</td>\n",
       "      <td>0</td>\n",
       "      <td>Direct</td>\n",
       "      <td>0</td>\n",
       "      <td>0.0</td>\n",
       "      <td>0</td>\n",
       "      <td>0</td>\n",
       "      <td>1</td>\n",
       "      <td>0</td>\n",
       "    </tr>\n",
       "    <tr>\n",
       "      <td>2</td>\n",
       "      <td>0</td>\n",
       "      <td>7</td>\n",
       "      <td>1</td>\n",
       "      <td>1.0</td>\n",
       "      <td>BB</td>\n",
       "      <td>0</td>\n",
       "      <td>Direct</td>\n",
       "      <td>0</td>\n",
       "      <td>0.0</td>\n",
       "      <td>0</td>\n",
       "      <td>0</td>\n",
       "      <td>1</td>\n",
       "      <td>0</td>\n",
       "    </tr>\n",
       "    <tr>\n",
       "      <td>3</td>\n",
       "      <td>0</td>\n",
       "      <td>13</td>\n",
       "      <td>1</td>\n",
       "      <td>1.0</td>\n",
       "      <td>BB</td>\n",
       "      <td>0</td>\n",
       "      <td>Corporate</td>\n",
       "      <td>0</td>\n",
       "      <td>0.0</td>\n",
       "      <td>0</td>\n",
       "      <td>0</td>\n",
       "      <td>1</td>\n",
       "      <td>0</td>\n",
       "    </tr>\n",
       "    <tr>\n",
       "      <td>4</td>\n",
       "      <td>0</td>\n",
       "      <td>14</td>\n",
       "      <td>1</td>\n",
       "      <td>2.0</td>\n",
       "      <td>BB</td>\n",
       "      <td>1</td>\n",
       "      <td>TA/TO</td>\n",
       "      <td>0</td>\n",
       "      <td>0.0</td>\n",
       "      <td>0</td>\n",
       "      <td>0</td>\n",
       "      <td>1</td>\n",
       "      <td>0</td>\n",
       "    </tr>\n",
       "    <tr>\n",
       "      <td>5</td>\n",
       "      <td>0</td>\n",
       "      <td>14</td>\n",
       "      <td>1</td>\n",
       "      <td>2.0</td>\n",
       "      <td>BB</td>\n",
       "      <td>1</td>\n",
       "      <td>TA/TO</td>\n",
       "      <td>0</td>\n",
       "      <td>0.0</td>\n",
       "      <td>0</td>\n",
       "      <td>0</td>\n",
       "      <td>1</td>\n",
       "      <td>0</td>\n",
       "    </tr>\n",
       "  </tbody>\n",
       "</table>\n",
       "</div>"
      ],
      "text/plain": [
       "   is_canceled  lead_time  arrival_season  people_count meal  MarketSegENC  \\\n",
       "0            0        342               1           2.0   BB             0   \n",
       "2            0          7               1           1.0   BB             0   \n",
       "3            0         13               1           1.0   BB             0   \n",
       "4            0         14               1           2.0   BB             1   \n",
       "5            0         14               1           2.0   BB             1   \n",
       "\n",
       "  distribution_channel  is_repeated_guest  previous_cancellation_ratio  \\\n",
       "0               Direct                  0                          0.0   \n",
       "2               Direct                  0                          0.0   \n",
       "3            Corporate                  0                          0.0   \n",
       "4                TA/TO                  0                          0.0   \n",
       "5                TA/TO                  0                          0.0   \n",
       "\n",
       "   NonRefundable  days_in_waiting_list  TransientCust  NeedParking  \n",
       "0              0                     0              1            0  \n",
       "2              0                     0              1            0  \n",
       "3              0                     0              1            0  \n",
       "4              0                     0              1            0  \n",
       "5              0                     0              1            0  "
      ]
     },
     "execution_count": 39,
     "metadata": {},
     "output_type": "execute_result"
    }
   ],
   "source": [
    "usecols = ['is_canceled','lead_time','arrival_season','people_count','meal','MarketSegENC','distribution_channel',\n",
    "           'is_repeated_guest','previous_cancellation_ratio','NonRefundable','days_in_waiting_list',\n",
    "           'TransientCust','NeedParking']\n",
    "data_ready = data_clean[usecols]\n",
    "data_ready.head()"
   ]
  },
  {
   "cell_type": "markdown",
   "metadata": {},
   "source": [
    "#### C) To Dummy Variables (One-Hot Variables)\n",
    "We did not set drop_first=True for interpretability"
   ]
  },
  {
   "cell_type": "code",
   "execution_count": 40,
   "metadata": {
    "ExecuteTime": {
     "end_time": "2020-09-09T01:29:21.514728Z",
     "start_time": "2020-09-09T01:29:21.398456Z"
    }
   },
   "outputs": [
    {
     "data": {
      "text/html": [
       "<div>\n",
       "<style scoped>\n",
       "    .dataframe tbody tr th:only-of-type {\n",
       "        vertical-align: middle;\n",
       "    }\n",
       "\n",
       "    .dataframe tbody tr th {\n",
       "        vertical-align: top;\n",
       "    }\n",
       "\n",
       "    .dataframe thead th {\n",
       "        text-align: right;\n",
       "    }\n",
       "</style>\n",
       "<table border=\"1\" class=\"dataframe\">\n",
       "  <thead>\n",
       "    <tr style=\"text-align: right;\">\n",
       "      <th></th>\n",
       "      <th>is_canceled</th>\n",
       "      <th>lead_time</th>\n",
       "      <th>arrival_season</th>\n",
       "      <th>people_count</th>\n",
       "      <th>MarketSegENC</th>\n",
       "      <th>is_repeated_guest</th>\n",
       "      <th>previous_cancellation_ratio</th>\n",
       "      <th>NonRefundable</th>\n",
       "      <th>days_in_waiting_list</th>\n",
       "      <th>TransientCust</th>\n",
       "      <th>...</th>\n",
       "      <th>meal_BB</th>\n",
       "      <th>meal_FB</th>\n",
       "      <th>meal_HB</th>\n",
       "      <th>meal_SC</th>\n",
       "      <th>meal_Undefined</th>\n",
       "      <th>distribution_channel_Corporate</th>\n",
       "      <th>distribution_channel_Direct</th>\n",
       "      <th>distribution_channel_GDS</th>\n",
       "      <th>distribution_channel_TA/TO</th>\n",
       "      <th>distribution_channel_Undefined</th>\n",
       "    </tr>\n",
       "  </thead>\n",
       "  <tbody>\n",
       "    <tr>\n",
       "      <td>0</td>\n",
       "      <td>0</td>\n",
       "      <td>342</td>\n",
       "      <td>1</td>\n",
       "      <td>2.0</td>\n",
       "      <td>0</td>\n",
       "      <td>0</td>\n",
       "      <td>0.0</td>\n",
       "      <td>0</td>\n",
       "      <td>0</td>\n",
       "      <td>1</td>\n",
       "      <td>...</td>\n",
       "      <td>1</td>\n",
       "      <td>0</td>\n",
       "      <td>0</td>\n",
       "      <td>0</td>\n",
       "      <td>0</td>\n",
       "      <td>0</td>\n",
       "      <td>1</td>\n",
       "      <td>0</td>\n",
       "      <td>0</td>\n",
       "      <td>0</td>\n",
       "    </tr>\n",
       "    <tr>\n",
       "      <td>2</td>\n",
       "      <td>0</td>\n",
       "      <td>7</td>\n",
       "      <td>1</td>\n",
       "      <td>1.0</td>\n",
       "      <td>0</td>\n",
       "      <td>0</td>\n",
       "      <td>0.0</td>\n",
       "      <td>0</td>\n",
       "      <td>0</td>\n",
       "      <td>1</td>\n",
       "      <td>...</td>\n",
       "      <td>1</td>\n",
       "      <td>0</td>\n",
       "      <td>0</td>\n",
       "      <td>0</td>\n",
       "      <td>0</td>\n",
       "      <td>0</td>\n",
       "      <td>1</td>\n",
       "      <td>0</td>\n",
       "      <td>0</td>\n",
       "      <td>0</td>\n",
       "    </tr>\n",
       "    <tr>\n",
       "      <td>3</td>\n",
       "      <td>0</td>\n",
       "      <td>13</td>\n",
       "      <td>1</td>\n",
       "      <td>1.0</td>\n",
       "      <td>0</td>\n",
       "      <td>0</td>\n",
       "      <td>0.0</td>\n",
       "      <td>0</td>\n",
       "      <td>0</td>\n",
       "      <td>1</td>\n",
       "      <td>...</td>\n",
       "      <td>1</td>\n",
       "      <td>0</td>\n",
       "      <td>0</td>\n",
       "      <td>0</td>\n",
       "      <td>0</td>\n",
       "      <td>1</td>\n",
       "      <td>0</td>\n",
       "      <td>0</td>\n",
       "      <td>0</td>\n",
       "      <td>0</td>\n",
       "    </tr>\n",
       "    <tr>\n",
       "      <td>4</td>\n",
       "      <td>0</td>\n",
       "      <td>14</td>\n",
       "      <td>1</td>\n",
       "      <td>2.0</td>\n",
       "      <td>1</td>\n",
       "      <td>0</td>\n",
       "      <td>0.0</td>\n",
       "      <td>0</td>\n",
       "      <td>0</td>\n",
       "      <td>1</td>\n",
       "      <td>...</td>\n",
       "      <td>1</td>\n",
       "      <td>0</td>\n",
       "      <td>0</td>\n",
       "      <td>0</td>\n",
       "      <td>0</td>\n",
       "      <td>0</td>\n",
       "      <td>0</td>\n",
       "      <td>0</td>\n",
       "      <td>1</td>\n",
       "      <td>0</td>\n",
       "    </tr>\n",
       "    <tr>\n",
       "      <td>5</td>\n",
       "      <td>0</td>\n",
       "      <td>14</td>\n",
       "      <td>1</td>\n",
       "      <td>2.0</td>\n",
       "      <td>1</td>\n",
       "      <td>0</td>\n",
       "      <td>0.0</td>\n",
       "      <td>0</td>\n",
       "      <td>0</td>\n",
       "      <td>1</td>\n",
       "      <td>...</td>\n",
       "      <td>1</td>\n",
       "      <td>0</td>\n",
       "      <td>0</td>\n",
       "      <td>0</td>\n",
       "      <td>0</td>\n",
       "      <td>0</td>\n",
       "      <td>0</td>\n",
       "      <td>0</td>\n",
       "      <td>1</td>\n",
       "      <td>0</td>\n",
       "    </tr>\n",
       "  </tbody>\n",
       "</table>\n",
       "<p>5 rows × 21 columns</p>\n",
       "</div>"
      ],
      "text/plain": [
       "   is_canceled  lead_time  arrival_season  people_count  MarketSegENC  \\\n",
       "0            0        342               1           2.0             0   \n",
       "2            0          7               1           1.0             0   \n",
       "3            0         13               1           1.0             0   \n",
       "4            0         14               1           2.0             1   \n",
       "5            0         14               1           2.0             1   \n",
       "\n",
       "   is_repeated_guest  previous_cancellation_ratio  NonRefundable  \\\n",
       "0                  0                          0.0              0   \n",
       "2                  0                          0.0              0   \n",
       "3                  0                          0.0              0   \n",
       "4                  0                          0.0              0   \n",
       "5                  0                          0.0              0   \n",
       "\n",
       "   days_in_waiting_list  TransientCust  ...  meal_BB  meal_FB  meal_HB  \\\n",
       "0                     0              1  ...        1        0        0   \n",
       "2                     0              1  ...        1        0        0   \n",
       "3                     0              1  ...        1        0        0   \n",
       "4                     0              1  ...        1        0        0   \n",
       "5                     0              1  ...        1        0        0   \n",
       "\n",
       "   meal_SC  meal_Undefined  distribution_channel_Corporate  \\\n",
       "0        0               0                               0   \n",
       "2        0               0                               0   \n",
       "3        0               0                               1   \n",
       "4        0               0                               0   \n",
       "5        0               0                               0   \n",
       "\n",
       "   distribution_channel_Direct  distribution_channel_GDS  \\\n",
       "0                            1                         0   \n",
       "2                            1                         0   \n",
       "3                            0                         0   \n",
       "4                            0                         0   \n",
       "5                            0                         0   \n",
       "\n",
       "   distribution_channel_TA/TO  distribution_channel_Undefined  \n",
       "0                           0                               0  \n",
       "2                           0                               0  \n",
       "3                           0                               0  \n",
       "4                           1                               0  \n",
       "5                           1                               0  \n",
       "\n",
       "[5 rows x 21 columns]"
      ]
     },
     "execution_count": 40,
     "metadata": {},
     "output_type": "execute_result"
    }
   ],
   "source": [
    "data_onehot = pd.get_dummies(data_ready, columns=['meal','distribution_channel'])\n",
    "data_onehot.head()"
   ]
  },
  {
   "cell_type": "markdown",
   "metadata": {},
   "source": [
    "#### D) Splitting the Data"
   ]
  },
  {
   "cell_type": "code",
   "execution_count": 41,
   "metadata": {
    "ExecuteTime": {
     "end_time": "2020-09-09T01:29:21.562477Z",
     "start_time": "2020-09-09T01:29:21.519123Z"
    }
   },
   "outputs": [
    {
     "name": "stdout",
     "output_type": "stream",
     "text": [
      "X shape : (109425, 20)\n",
      "y shape : (109425,)\n"
     ]
    }
   ],
   "source": [
    "X = data_onehot.iloc[:,1:]\n",
    "y = data_onehot.iloc[:,0]\n",
    "print('X shape : {}'.format(X.shape))\n",
    "print('y shape : {}'.format(y.shape))"
   ]
  },
  {
   "cell_type": "code",
   "execution_count": 42,
   "metadata": {
    "ExecuteTime": {
     "end_time": "2020-09-09T01:29:21.641561Z",
     "start_time": "2020-09-09T01:29:21.571416Z"
    }
   },
   "outputs": [
    {
     "name": "stdout",
     "output_type": "stream",
     "text": [
      "Train X shape : (82068, 20)\n",
      "Train y shape : (82068,)\n",
      "Test X shape : (27357, 20)\n",
      "Test y shape : (27357,)\n"
     ]
    }
   ],
   "source": [
    "trainx, testx, trainy, testy = train_test_split(X, y, test_size=0.25, random_state=1234)\n",
    "print('Train X shape : {}'.format(trainx.shape))\n",
    "print('Train y shape : {}'.format(trainy.shape))\n",
    "print('Test X shape : {}'.format(testx.shape))\n",
    "print('Test y shape : {}'.format(testy.shape))"
   ]
  },
  {
   "cell_type": "markdown",
   "metadata": {},
   "source": [
    "#### E) Standardize Input Scales"
   ]
  },
  {
   "cell_type": "code",
   "execution_count": 43,
   "metadata": {
    "ExecuteTime": {
     "end_time": "2020-09-09T01:29:21.834791Z",
     "start_time": "2020-09-09T01:29:21.644841Z"
    }
   },
   "outputs": [],
   "source": [
    "scaler = StandardScaler()\n",
    "trainx_scaled = scaler.fit_transform(trainx)\n",
    "testx_scaled = scaler.transform(testx)"
   ]
  },
  {
   "cell_type": "markdown",
   "metadata": {},
   "source": [
    "#### F) Modeling\n",
    "Saya memutuskan menggunakan 2 model berbeda dan memilih yang terbaik."
   ]
  },
  {
   "cell_type": "markdown",
   "metadata": {},
   "source": [
    "* **Logistic Regression**"
   ]
  },
  {
   "cell_type": "code",
   "execution_count": 44,
   "metadata": {
    "ExecuteTime": {
     "end_time": "2020-09-09T01:29:22.510585Z",
     "start_time": "2020-09-09T01:29:21.839304Z"
    }
   },
   "outputs": [
    {
     "data": {
      "text/plain": [
       "LogisticRegression(C=1.0, class_weight=None, dual=False, fit_intercept=True,\n",
       "                   intercept_scaling=1, l1_ratio=None, max_iter=1000,\n",
       "                   multi_class='auto', n_jobs=None, penalty='l2',\n",
       "                   random_state=None, solver='lbfgs', tol=0.0001, verbose=0,\n",
       "                   warm_start=False)"
      ]
     },
     "execution_count": 44,
     "metadata": {},
     "output_type": "execute_result"
    }
   ],
   "source": [
    "lr = LogisticRegression(max_iter=1000)\n",
    "lr.fit(trainx_scaled, trainy)"
   ]
  },
  {
   "cell_type": "code",
   "execution_count": 45,
   "metadata": {
    "ExecuteTime": {
     "end_time": "2020-09-09T01:29:22.660989Z",
     "start_time": "2020-09-09T01:29:22.515206Z"
    }
   },
   "outputs": [
    {
     "name": "stdout",
     "output_type": "stream",
     "text": [
      "Train Accuracy = 0.7738948189306429\n",
      "Test Accuracy = 0.7757429542713017\n",
      "              precision    recall  f1-score   support\n",
      "\n",
      "           0       0.98      0.75      0.85     22901\n",
      "           1       0.42      0.93      0.57      4456\n",
      "\n",
      "    accuracy                           0.78     27357\n",
      "   macro avg       0.70      0.84      0.71     27357\n",
      "weighted avg       0.89      0.78      0.80     27357\n",
      "\n"
     ]
    }
   ],
   "source": [
    "tr_pred = lr.predict(trainx_scaled)\n",
    "te_pred = lr.predict(testx_scaled)\n",
    "print('Train Accuracy = {}'.format(accuracy_score(tr_pred, trainy)))\n",
    "print('Test Accuracy = {}'.format(accuracy_score(te_pred, testy)))\n",
    "print(classification_report(te_pred, testy))"
   ]
  },
  {
   "cell_type": "markdown",
   "metadata": {},
   "source": [
    "* **Decision Tree**"
   ]
  },
  {
   "cell_type": "code",
   "execution_count": 46,
   "metadata": {
    "ExecuteTime": {
     "end_time": "2020-09-09T01:29:22.943368Z",
     "start_time": "2020-09-09T01:29:22.665375Z"
    }
   },
   "outputs": [],
   "source": [
    "dt = DecisionTreeClassifier(\n",
    "    criterion='entropy',\n",
    "    max_depth=6\n",
    ")\n",
    "\n",
    "dt_res = dt.fit(trainx_scaled, trainy)"
   ]
  },
  {
   "cell_type": "code",
   "execution_count": 47,
   "metadata": {
    "ExecuteTime": {
     "end_time": "2020-09-09T01:29:23.090786Z",
     "start_time": "2020-09-09T01:29:22.947428Z"
    }
   },
   "outputs": [
    {
     "name": "stdout",
     "output_type": "stream",
     "text": [
      "Train Accuracy = 0.7717989959545742\n",
      "Test Accuracy = 0.7719779215557261\n",
      "              precision    recall  f1-score   support\n",
      "\n",
      "           0       1.00      0.74      0.85     23606\n",
      "           1       0.38      1.00      0.55      3751\n",
      "\n",
      "    accuracy                           0.77     27357\n",
      "   macro avg       0.69      0.87      0.70     27357\n",
      "weighted avg       0.91      0.77      0.81     27357\n",
      "\n"
     ]
    }
   ],
   "source": [
    "tr_pred = dt.predict(trainx_scaled)\n",
    "te_pred = dt.predict(testx_scaled)\n",
    "print('Train Accuracy = {}'.format(accuracy_score(tr_pred, trainy)))\n",
    "print('Test Accuracy = {}'.format(accuracy_score(te_pred, testy)))\n",
    "print(classification_report(te_pred, testy))"
   ]
  },
  {
   "cell_type": "markdown",
   "metadata": {},
   "source": [
    "#### G) K Fold Cross Validation with Decision Tree"
   ]
  },
  {
   "cell_type": "code",
   "execution_count": 48,
   "metadata": {
    "ExecuteTime": {
     "end_time": "2020-09-09T01:29:31.333706Z",
     "start_time": "2020-09-09T01:29:23.095064Z"
    }
   },
   "outputs": [
    {
     "name": "stdout",
     "output_type": "stream",
     "text": [
      "Fold 1 : Train Accuracy = 0.8535163786275665\n",
      "Fold 1 : Test Accuracy = 0.43205702275427216\n",
      "\n",
      "Fold 2 : Train Accuracy = 0.8131739810320667\n",
      "Fold 2 : Test Accuracy = 0.8727040116969752\n",
      "\n",
      "Fold 3 : Train Accuracy = 0.8144940192116326\n",
      "Fold 3 : Test Accuracy = 0.8265557890889152\n",
      "\n",
      "Fold 4 : Train Accuracy = 0.8317865193639447\n",
      "Fold 4 : Test Accuracy = 0.6998994791190716\n",
      "\n",
      "Fold 5 : Train Accuracy = 0.8542068601368779\n",
      "Fold 5 : Test Accuracy = 0.4116786987115051\n",
      "\n",
      "Fold 6 : Train Accuracy = 0.8615395550501102\n",
      "Fold 6 : Test Accuracy = 0.35386583805520017\n",
      "\n",
      "Fold 7 : Train Accuracy = 0.8090634931917183\n",
      "Fold 7 : Test Accuracy = 0.9258819228660209\n",
      "\n",
      "Fold 8 : Train Accuracy = 0.8222942030604267\n",
      "Fold 8 : Test Accuracy = 0.6816852494973497\n",
      "\n",
      "Fold 9 : Train Accuracy = 0.8261628910573399\n",
      "Fold 9 : Test Accuracy = 0.6188082617437397\n",
      "\n",
      "Fold 10 : Train Accuracy = 0.8297878821725577\n",
      "Fold 10 : Test Accuracy = 0.6004386766587461\n",
      "\n",
      "K Fold Accuracy Mean : 0.6423574950191797\n",
      "K Fold Accuracy Standard Deviation : 0.18847030753817434\n"
     ]
    }
   ],
   "source": [
    "dt = DecisionTreeClassifier(\n",
    "    criterion='entropy',\n",
    ")\n",
    "\n",
    "tr_accs = []\n",
    "te_accs = []\n",
    "kfold = KFold(n_splits=10)\n",
    "for idx, (tr_idx, te_idx) in enumerate(kfold.split(X)) :\n",
    "    trainX = X.iloc[tr_idx, :]\n",
    "    testX = X.iloc[te_idx, :]\n",
    "    trainy = y.iloc[tr_idx]\n",
    "    testy = y.iloc[te_idx]\n",
    "    \n",
    "    scaler = StandardScaler()\n",
    "    trainX = scaler.fit_transform(trainX)\n",
    "    testX = scaler.transform(testX)\n",
    "    \n",
    "    dt.fit(trainX, trainy)\n",
    "    tr_pred = dt.predict(trainX)\n",
    "    te_pred = dt.predict(testX)\n",
    "    \n",
    "    tr_acc = accuracy_score(tr_pred, trainy)\n",
    "    te_acc = accuracy_score(te_pred, testy)\n",
    "    tr_accs.append(tr_acc)\n",
    "    te_accs.append(te_acc)\n",
    "    print('Fold {} : Train Accuracy = {}'.format(idx+1, tr_acc))\n",
    "    print('Fold {} : Test Accuracy = {}'.format(idx+1, te_acc))\n",
    "    print()\n",
    "\n",
    "print('K Fold Accuracy Mean : {}'.format(np.mean(te_accs)))\n",
    "print('K Fold Accuracy Standard Deviation : {}'.format(np.std(te_accs)))"
   ]
  },
  {
   "cell_type": "markdown",
   "metadata": {},
   "source": [
    "#### H) Hyper-Parameter Tuning"
   ]
  },
  {
   "cell_type": "code",
   "execution_count": 49,
   "metadata": {
    "ExecuteTime": {
     "end_time": "2020-09-09T01:29:31.347213Z",
     "start_time": "2020-09-09T01:29:31.336676Z"
    }
   },
   "outputs": [
    {
     "data": {
      "text/plain": [
       "{'penalty': ['l1', 'l2', 'elasticnet', 'none'],\n",
       " 'solver': ['newton-cg', 'lbfgs', 'liblinear', 'sag', 'saga'],\n",
       " 'max_iter': [1, 10, 100, 1000, 10000]}"
      ]
     },
     "execution_count": 49,
     "metadata": {},
     "output_type": "execute_result"
    }
   ],
   "source": [
    "# parameter model linear regression yang akan dituned + nilai yang mungkin\n",
    "\n",
    "penalty = ['l1', 'l2', 'elasticnet', 'none']\n",
    "solver = ['newton-cg', 'lbfgs', 'liblinear', 'sag', 'saga']\n",
    "max_iter = [1, 10, 100, 1000, 10000]\n",
    "\n",
    "param = {'penalty': penalty, 'solver': solver, 'max_iter': max_iter}\n",
    "param"
   ]
  },
  {
   "cell_type": "code",
   "execution_count": 50,
   "metadata": {
    "ExecuteTime": {
     "end_time": "2020-09-09T01:29:31.368259Z",
     "start_time": "2020-09-09T01:29:31.355535Z"
    }
   },
   "outputs": [],
   "source": [
    "# mencari parameter terbaik pada model: logistic regression\n",
    "\n",
    "from sklearn.model_selection import RandomizedSearchCV\n",
    "model_dtc = DecisionTreeClassifier()\n",
    "model_dtc_rs = RandomizedSearchCV(estimator = model_dtc, param_distributions= param, cv = 5)"
   ]
  },
  {
   "cell_type": "markdown",
   "metadata": {},
   "source": [
    "### 4. MODEL EVALUATION & IMPLEMENTATION\n",
    "\n",
    "#### Kesimpulan:\n",
    "\n",
    "Berdasarkan perbandingan score dari 2 model diatas. Hasilnya keduanya tidak terlalu jauh yaitu akurasi skor 77%. \n",
    "Kesalahan yang akan ditekan pada kasus ini adalah: Customer akan cancel booking (membatalkan pesanan), padahal sebenarnya/realisasinya user tidak membatalkan pesanan, karena berdasarkan artikel dari **bisnis.com** pembatalan pemesanan kamar hotel pada menit-menit terakhir yang menjadi tren dalam beberapa tahun terakhir merupakan masalah bagi pelaku usaha perhotelan. Pembatalan itu tidak saja berpotensi menurunkan pendapatan industri jasa tersebut, namun juga mengganggu manajemen keuangan sektor usaha tersebut. "
   ]
  }
 ],
 "metadata": {
  "kernelspec": {
   "display_name": "Python 3",
   "language": "python",
   "name": "python3"
  },
  "language_info": {
   "codemirror_mode": {
    "name": "ipython",
    "version": 3
   },
   "file_extension": ".py",
   "mimetype": "text/x-python",
   "name": "python",
   "nbconvert_exporter": "python",
   "pygments_lexer": "ipython3",
   "version": "3.7.4"
  },
  "varInspector": {
   "cols": {
    "lenName": 16,
    "lenType": 16,
    "lenVar": 40
   },
   "kernels_config": {
    "python": {
     "delete_cmd_postfix": "",
     "delete_cmd_prefix": "del ",
     "library": "var_list.py",
     "varRefreshCmd": "print(var_dic_list())"
    },
    "r": {
     "delete_cmd_postfix": ") ",
     "delete_cmd_prefix": "rm(",
     "library": "var_list.r",
     "varRefreshCmd": "cat(var_dic_list()) "
    }
   },
   "types_to_exclude": [
    "module",
    "function",
    "builtin_function_or_method",
    "instance",
    "_Feature"
   ],
   "window_display": false
  }
 },
 "nbformat": 4,
 "nbformat_minor": 2
}
